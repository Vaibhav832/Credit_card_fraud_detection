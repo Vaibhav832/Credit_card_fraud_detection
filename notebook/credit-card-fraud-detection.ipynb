{
 "cells": [
  {
   "cell_type": "code",
   "execution_count": null,
   "id": "47c887ae",
   "metadata": {},
   "outputs": [],
   "source": [
    "!pip install ydata-profiling\n",
    "!pip install flaml[notebook]"
   ]
  },
  {
   "cell_type": "code",
   "execution_count": 2,
   "id": "076621ac",
   "metadata": {
    "execution": {
     "iopub.execute_input": "2023-05-05T09:18:56.746238Z",
     "iopub.status.busy": "2023-05-05T09:18:56.743602Z",
     "iopub.status.idle": "2023-05-05T09:18:56.755828Z",
     "shell.execute_reply": "2023-05-05T09:18:56.754781Z",
     "shell.execute_reply.started": "2023-05-05T09:18:56.746191Z"
    },
    "papermill": {
     "duration": 1.72519,
     "end_time": "2021-10-05T13:38:33.196375",
     "exception": false,
     "start_time": "2021-10-05T13:38:31.471185",
     "status": "completed"
    },
    "tags": []
   },
   "outputs": [],
   "source": [
    "import gc\n",
    "import warnings\n",
    "import numpy as np \n",
    "import pandas as pd \n",
    "import lightgbm as lgb\n",
    "import multiprocessing as mp\n",
    "warnings.filterwarnings('ignore')\n",
    "from sklearn.pipeline import Pipeline\n",
    "from sklearn.impute import SimpleImputer\n",
    "#from ydata_profiling import ProfileReport\n",
    "from sklearn.compose import ColumnTransformer\n",
    "from sklearn.preprocessing import FunctionTransformer\n",
    "from sklearn.metrics import confusion_matrix\n",
    "from sklearn.preprocessing import LabelEncoder\n",
    "from sklearn.preprocessing import StandardScaler\n",
    "from sklearn.metrics import classification_report\n",
    "from sklearn.model_selection import train_test_split\n",
    "from sklearn.preprocessing import FunctionTransformer, LabelEncoder, OneHotEncoder\n",
    "from category_encoders.binary import BinaryEncoder\n",
    "from imblearn.under_sampling import RandomUnderSampler\n",
    "from imblearn.pipeline import Pipeline as imbpipeline \n",
    "import matplotlib.pyplot as plt"
   ]
  },
  {
   "cell_type": "markdown",
   "id": "0e3a2094",
   "metadata": {
    "papermill": {
     "duration": 0.011702,
     "end_time": "2021-10-05T13:38:33.221852",
     "exception": false,
     "start_time": "2021-10-05T13:38:33.210150",
     "status": "completed"
    },
    "tags": []
   },
   "source": [
    "#### Read the data into a dataframe"
   ]
  },
  {
   "cell_type": "code",
   "execution_count": 3,
   "id": "cf5c6086",
   "metadata": {
    "execution": {
     "iopub.execute_input": "2023-05-05T09:19:06.464079Z",
     "iopub.status.busy": "2023-05-05T09:19:06.463598Z",
     "iopub.status.idle": "2023-05-05T09:20:29.587624Z",
     "shell.execute_reply": "2023-05-05T09:20:29.586266Z",
     "shell.execute_reply.started": "2023-05-05T09:19:06.464039Z"
    },
    "papermill": {
     "duration": 52.033769,
     "end_time": "2021-10-05T13:39:25.267519",
     "exception": false,
     "start_time": "2021-10-05T13:38:33.233750",
     "status": "completed"
    },
    "tags": []
   },
   "outputs": [
    {
     "data": {
      "text/html": [
       "<div>\n",
       "<style scoped>\n",
       "    .dataframe tbody tr th:only-of-type {\n",
       "        vertical-align: middle;\n",
       "    }\n",
       "\n",
       "    .dataframe tbody tr th {\n",
       "        vertical-align: top;\n",
       "    }\n",
       "\n",
       "    .dataframe thead th {\n",
       "        text-align: right;\n",
       "    }\n",
       "</style>\n",
       "<table border=\"1\" class=\"dataframe\">\n",
       "  <thead>\n",
       "    <tr style=\"text-align: right;\">\n",
       "      <th></th>\n",
       "      <th>User</th>\n",
       "      <th>Card</th>\n",
       "      <th>Year</th>\n",
       "      <th>Month</th>\n",
       "      <th>Day</th>\n",
       "      <th>Time</th>\n",
       "      <th>Amount</th>\n",
       "      <th>Use Chip</th>\n",
       "      <th>Merchant Name</th>\n",
       "      <th>Merchant City</th>\n",
       "      <th>Merchant State</th>\n",
       "      <th>Zip</th>\n",
       "      <th>MCC</th>\n",
       "      <th>Errors?</th>\n",
       "      <th>Is Fraud?</th>\n",
       "    </tr>\n",
       "  </thead>\n",
       "  <tbody>\n",
       "    <tr>\n",
       "      <th>0</th>\n",
       "      <td>0</td>\n",
       "      <td>0</td>\n",
       "      <td>2002</td>\n",
       "      <td>9</td>\n",
       "      <td>1</td>\n",
       "      <td>06:21</td>\n",
       "      <td>$134.09</td>\n",
       "      <td>Swipe Transaction</td>\n",
       "      <td>3527213246127876953</td>\n",
       "      <td>La Verne</td>\n",
       "      <td>CA</td>\n",
       "      <td>91750.0</td>\n",
       "      <td>5300</td>\n",
       "      <td>NaN</td>\n",
       "      <td>No</td>\n",
       "    </tr>\n",
       "    <tr>\n",
       "      <th>1</th>\n",
       "      <td>0</td>\n",
       "      <td>0</td>\n",
       "      <td>2002</td>\n",
       "      <td>9</td>\n",
       "      <td>1</td>\n",
       "      <td>06:42</td>\n",
       "      <td>$38.48</td>\n",
       "      <td>Swipe Transaction</td>\n",
       "      <td>-727612092139916043</td>\n",
       "      <td>Monterey Park</td>\n",
       "      <td>CA</td>\n",
       "      <td>91754.0</td>\n",
       "      <td>5411</td>\n",
       "      <td>NaN</td>\n",
       "      <td>No</td>\n",
       "    </tr>\n",
       "    <tr>\n",
       "      <th>2</th>\n",
       "      <td>0</td>\n",
       "      <td>0</td>\n",
       "      <td>2002</td>\n",
       "      <td>9</td>\n",
       "      <td>2</td>\n",
       "      <td>06:22</td>\n",
       "      <td>$120.34</td>\n",
       "      <td>Swipe Transaction</td>\n",
       "      <td>-727612092139916043</td>\n",
       "      <td>Monterey Park</td>\n",
       "      <td>CA</td>\n",
       "      <td>91754.0</td>\n",
       "      <td>5411</td>\n",
       "      <td>NaN</td>\n",
       "      <td>No</td>\n",
       "    </tr>\n",
       "    <tr>\n",
       "      <th>3</th>\n",
       "      <td>0</td>\n",
       "      <td>0</td>\n",
       "      <td>2002</td>\n",
       "      <td>9</td>\n",
       "      <td>2</td>\n",
       "      <td>17:45</td>\n",
       "      <td>$128.95</td>\n",
       "      <td>Swipe Transaction</td>\n",
       "      <td>3414527459579106770</td>\n",
       "      <td>Monterey Park</td>\n",
       "      <td>CA</td>\n",
       "      <td>91754.0</td>\n",
       "      <td>5651</td>\n",
       "      <td>NaN</td>\n",
       "      <td>No</td>\n",
       "    </tr>\n",
       "    <tr>\n",
       "      <th>4</th>\n",
       "      <td>0</td>\n",
       "      <td>0</td>\n",
       "      <td>2002</td>\n",
       "      <td>9</td>\n",
       "      <td>3</td>\n",
       "      <td>06:23</td>\n",
       "      <td>$104.71</td>\n",
       "      <td>Swipe Transaction</td>\n",
       "      <td>5817218446178736267</td>\n",
       "      <td>La Verne</td>\n",
       "      <td>CA</td>\n",
       "      <td>91750.0</td>\n",
       "      <td>5912</td>\n",
       "      <td>NaN</td>\n",
       "      <td>No</td>\n",
       "    </tr>\n",
       "  </tbody>\n",
       "</table>\n",
       "</div>"
      ],
      "text/plain": [
       "   User  Card  Year  Month  Day   Time   Amount           Use Chip  \\\n",
       "0     0     0  2002      9    1  06:21  $134.09  Swipe Transaction   \n",
       "1     0     0  2002      9    1  06:42   $38.48  Swipe Transaction   \n",
       "2     0     0  2002      9    2  06:22  $120.34  Swipe Transaction   \n",
       "3     0     0  2002      9    2  17:45  $128.95  Swipe Transaction   \n",
       "4     0     0  2002      9    3  06:23  $104.71  Swipe Transaction   \n",
       "\n",
       "         Merchant Name  Merchant City Merchant State      Zip   MCC Errors?  \\\n",
       "0  3527213246127876953       La Verne             CA  91750.0  5300     NaN   \n",
       "1  -727612092139916043  Monterey Park             CA  91754.0  5411     NaN   \n",
       "2  -727612092139916043  Monterey Park             CA  91754.0  5411     NaN   \n",
       "3  3414527459579106770  Monterey Park             CA  91754.0  5651     NaN   \n",
       "4  5817218446178736267       La Verne             CA  91750.0  5912     NaN   \n",
       "\n",
       "  Is Fraud?  \n",
       "0        No  \n",
       "1        No  \n",
       "2        No  \n",
       "3        No  \n",
       "4        No  "
      ]
     },
     "execution_count": 3,
     "metadata": {},
     "output_type": "execute_result"
    }
   ],
   "source": [
    "df = pd.read_csv(\"../input/credit-card-transactions/credit_card_transactions-ibm_v2.csv\",\n",
    "                 dtype = {'Year' : 'int16', 'Month' : 'int8', 'Day' : 'int8',\n",
    "                           'Use Chip' : 'category', 'MCC' : 'int16', 'Is Fraud?' : 'category' , \n",
    "                            'Merchant City' : 'category', 'Amount' : 'string'})\n",
    "df.head()"
   ]
  },
  {
   "cell_type": "code",
   "execution_count": 4,
   "id": "7012786e",
   "metadata": {
    "execution": {
     "iopub.execute_input": "2023-05-05T09:20:29.590297Z",
     "iopub.status.busy": "2023-05-05T09:20:29.589946Z",
     "iopub.status.idle": "2023-05-05T09:20:53.664689Z",
     "shell.execute_reply": "2023-05-05T09:20:53.663383Z",
     "shell.execute_reply.started": "2023-05-05T09:20:29.590263Z"
    },
    "papermill": {
     "duration": 33.843419,
     "end_time": "2021-10-05T13:40:17.256688",
     "exception": false,
     "start_time": "2021-10-05T13:39:43.413269",
     "status": "completed"
    },
    "tags": []
   },
   "outputs": [],
   "source": [
    "X_train, X_test, y_train, y_test = train_test_split(df.drop(['Is Fraud?'],axis=1), df['Is Fraud?'], test_size = 0.3, random_state = 1613,shuffle=True )"
   ]
  },
  {
   "cell_type": "code",
   "execution_count": 6,
   "id": "c3bba4a5",
   "metadata": {
    "execution": {
     "iopub.execute_input": "2023-04-20T15:10:42.314312Z",
     "iopub.status.busy": "2023-04-20T15:10:42.313850Z",
     "iopub.status.idle": "2023-04-20T15:12:20.261313Z",
     "shell.execute_reply": "2023-04-20T15:12:20.244145Z",
     "shell.execute_reply.started": "2023-04-20T15:10:42.314255Z"
    },
    "scrolled": true
   },
   "outputs": [
    {
     "data": {
      "application/vnd.jupyter.widget-view+json": {
       "model_id": "1f0f52186d574e9f8770dabda4d43021",
       "version_major": 2,
       "version_minor": 0
      },
      "text/plain": [
       "Summarize dataset:   0%|          | 0/5 [00:00<?, ?it/s]"
      ]
     },
     "metadata": {},
     "output_type": "display_data"
    },
    {
     "data": {
      "application/vnd.jupyter.widget-view+json": {
       "model_id": "e52b7e48b0e44f0daaa5079572ae1034",
       "version_major": 2,
       "version_minor": 0
      },
      "text/plain": [
       "Generate report structure:   0%|          | 0/1 [00:00<?, ?it/s]"
      ]
     },
     "metadata": {},
     "output_type": "display_data"
    },
    {
     "data": {
      "application/vnd.jupyter.widget-view+json": {
       "model_id": "",
       "version_major": 2,
       "version_minor": 0
      },
      "text/plain": [
       "Render widgets:   0%|          | 0/1 [00:00<?, ?it/s]"
      ]
     },
     "metadata": {},
     "output_type": "display_data"
    },
    {
     "data": {
      "application/vnd.jupyter.widget-view+json": {
       "model_id": "1489d34df2f646368d9e4c3274cfb00e",
       "version_major": 2,
       "version_minor": 0
      },
      "text/plain": [
       "VBox(children=(Tab(children=(Tab(children=(GridBox(children=(VBox(children=(GridspecLayout(children=(HTML(valu…"
      ]
     },
     "metadata": {},
     "output_type": "display_data"
    }
   ],
   "source": [
    "profile = ProfileReport(df, title=\"Data Report\", explorative = True, minimal = True, dark_mode=True )\n",
    "profile.to_widgets()"
   ]
  },
  {
   "cell_type": "code",
   "execution_count": null,
   "id": "5b3024db",
   "metadata": {},
   "outputs": [],
   "source": [
    "profile.to_notebook_iframe()"
   ]
  },
  {
   "cell_type": "code",
   "execution_count": 5,
   "id": "e04f6041",
   "metadata": {
    "execution": {
     "iopub.execute_input": "2023-05-05T09:20:53.666681Z",
     "iopub.status.busy": "2023-05-05T09:20:53.666266Z",
     "iopub.status.idle": "2023-05-05T09:20:53.807983Z",
     "shell.execute_reply": "2023-05-05T09:20:53.806855Z",
     "shell.execute_reply.started": "2023-05-05T09:20:53.666628Z"
    }
   },
   "outputs": [
    {
     "data": {
      "text/plain": [
       "93"
      ]
     },
     "execution_count": 5,
     "metadata": {},
     "output_type": "execute_result"
    }
   ],
   "source": [
    "del df\n",
    "gc.collect()"
   ]
  },
  {
   "cell_type": "code",
   "execution_count": 6,
   "id": "7e526b41",
   "metadata": {
    "execution": {
     "iopub.execute_input": "2023-05-05T09:20:53.813164Z",
     "iopub.status.busy": "2023-05-05T09:20:53.812599Z",
     "iopub.status.idle": "2023-05-05T09:20:53.827402Z",
     "shell.execute_reply": "2023-05-05T09:20:53.826308Z",
     "shell.execute_reply.started": "2023-05-05T09:20:53.813107Z"
    }
   },
   "outputs": [],
   "source": [
    "def clean(df):\n",
    "    df['Zip'].fillna(0, inplace=True)\n",
    "    df['Amount'] = df['Amount'].apply(lambda value: float(value.split(\"$\")[1]))\n",
    "    df['Hour'] = df['Time'].apply(lambda value: int(value.split(\":\")[0]))\n",
    "    df['Minutes'] = df['Time'].apply(lambda value: int(value.split(\":\")[1]))\n",
    "    df.drop(['Time'], axis=1, inplace=True)\n",
    "    df['Merchant State'].fillna('NA', inplace=True)\n",
    "    df['Merchant State'] = df['Merchant State'].astype('category')\n",
    "    df['Errors?'].fillna('None', inplace=True)\n",
    "    df['Errors?'] = df['Errors?'].astype('category')\n",
    "\n",
    "    \n",
    "    cat_col = ['Merchant State','Use Chip', 'Merchant City','Errors?']\n",
    "    be = BinaryEncoder()\n",
    "    enc_df= pd.DataFrame(be.fit_transform(df[cat_col]), dtype= 'int8' )  \n",
    "\n",
    "    df.drop(cat_col, axis=1, inplace = True)\n",
    "    df = pd.concat([df,enc_df], axis=1)\n",
    "    \n",
    "    for col in df.columns:\n",
    "        df[col] =  df[col].astype(float)\n",
    "    return pd.DataFrame(df)    \n",
    "     \n",
    "    \n",
    "preprocessing_pipeline = Pipeline([\n",
    "    ('cleaning', FunctionTransformer(clean))\n",
    "], verbose=True) \n"
   ]
  },
  {
   "cell_type": "code",
   "execution_count": 7,
   "id": "f132bbaf",
   "metadata": {
    "execution": {
     "iopub.execute_input": "2023-05-05T09:20:53.828971Z",
     "iopub.status.busy": "2023-05-05T09:20:53.828557Z",
     "iopub.status.idle": "2023-05-05T09:22:46.130949Z",
     "shell.execute_reply": "2023-05-05T09:22:46.129932Z",
     "shell.execute_reply.started": "2023-05-05T09:20:53.828935Z"
    }
   },
   "outputs": [],
   "source": [
    "X_train, y_train = RandomUnderSampler(random_state=1613 , sampling_strategy= 0.01).fit_resample(X_train,y_train)"
   ]
  },
  {
   "cell_type": "code",
   "execution_count": 8,
   "id": "726b4c56",
   "metadata": {
    "execution": {
     "iopub.execute_input": "2023-05-05T09:22:46.132968Z",
     "iopub.status.busy": "2023-05-05T09:22:46.132372Z",
     "iopub.status.idle": "2023-05-05T09:23:03.423063Z",
     "shell.execute_reply": "2023-05-05T09:23:03.421633Z",
     "shell.execute_reply.started": "2023-05-05T09:22:46.132923Z"
    }
   },
   "outputs": [
    {
     "name": "stdout",
     "output_type": "stream",
     "text": [
      "[Pipeline] .......... (step 1 of 1) Processing cleaning, total=  17.3s\n"
     ]
    }
   ],
   "source": [
    "X_train = pd.DataFrame(preprocessing_pipeline.fit_transform(X_train), dtype= 'float')"
   ]
  },
  {
   "cell_type": "code",
   "execution_count": 9,
   "id": "9a6fd6d1",
   "metadata": {
    "execution": {
     "iopub.execute_input": "2023-05-05T09:23:03.424786Z",
     "iopub.status.busy": "2023-05-05T09:23:03.424454Z",
     "iopub.status.idle": "2023-05-05T09:24:08.996043Z",
     "shell.execute_reply": "2023-05-05T09:24:08.994636Z",
     "shell.execute_reply.started": "2023-05-05T09:23:03.424754Z"
    }
   },
   "outputs": [
    {
     "name": "stdout",
     "output_type": "stream",
     "text": [
      "[Pipeline] .......... (step 1 of 1) Processing cleaning, total= 1.1min\n"
     ]
    }
   ],
   "source": [
    "X_test = pd.DataFrame(preprocessing_pipeline.fit_transform(X_test), dtype= 'float')"
   ]
  },
  {
   "cell_type": "code",
   "execution_count": 10,
   "id": "516a52d6",
   "metadata": {
    "execution": {
     "iopub.execute_input": "2023-05-05T09:24:08.998706Z",
     "iopub.status.busy": "2023-05-05T09:24:08.998164Z",
     "iopub.status.idle": "2023-05-05T09:24:11.274877Z",
     "shell.execute_reply": "2023-05-05T09:24:11.273345Z",
     "shell.execute_reply.started": "2023-05-05T09:24:08.998657Z"
    }
   },
   "outputs": [],
   "source": [
    "label_encoder = LabelEncoder()\n",
    "y_train = label_encoder.fit_transform(y_train)\n",
    "y_test = label_encoder.transform(y_test)"
   ]
  },
  {
   "cell_type": "markdown",
   "id": "9ba056f8",
   "metadata": {},
   "source": [
    "### Tuning XGBoost"
   ]
  },
  {
   "cell_type": "code",
   "execution_count": null,
   "id": "2c442ee2",
   "metadata": {},
   "outputs": [],
   "source": [
    "from flaml import AutoML\n",
    "\n",
    "automl = AutoML()\n",
    "settings = {\n",
    "    \"time_budget\": 1800, \n",
    "    \"metric\": 'macro_f1', \n",
    "    \"estimator_list\": ['xgboost'],  \n",
    "    \"task\": 'classification',  \n",
    "    \"log_file_name\": 'xgb.log',  \n",
    "    \"seed\": 1613,  \n",
    "}\n",
    "automl.fit(X_train=X_train, y_train=y_train, **settings, n_jobs = 8 )"
   ]
  },
  {
   "cell_type": "code",
   "execution_count": 23,
   "id": "0f7a6e39",
   "metadata": {
    "execution": {
     "iopub.execute_input": "2023-05-04T13:43:25.706548Z",
     "iopub.status.busy": "2023-05-04T13:43:25.706125Z",
     "iopub.status.idle": "2023-05-04T13:43:25.714908Z",
     "shell.execute_reply": "2023-05-04T13:43:25.713313Z",
     "shell.execute_reply.started": "2023-05-04T13:43:25.706507Z"
    }
   },
   "outputs": [
    {
     "name": "stdout",
     "output_type": "stream",
     "text": [
      "Best hyperparmeter config: {'n_estimators': 295, 'max_leaves': 810, 'min_child_weight': 6.150041099125579, 'learning_rate': 0.06894448972317331, 'subsample': 0.8618758064542394, 'colsample_bylevel': 1.0, 'colsample_bytree': 1.0, 'reg_alpha': 0.020070123048846998, 'reg_lambda': 0.49934036422839806}\n",
      "Best r2 on validation data: 0.9435\n",
      "Training duration of best run: 602.2 s\n"
     ]
    }
   ],
   "source": [
    "print('Best hyperparmeter config:', automl.best_config)\n",
    "print('Best r2 on validation data: {0:.4g}'.format(1-automl.best_loss))\n",
    "print('Training duration of best run: {0:.4g} s'.format(automl.best_config_train_time))"
   ]
  },
  {
   "cell_type": "code",
   "execution_count": 33,
   "id": "5f843ec5",
   "metadata": {
    "execution": {
     "iopub.execute_input": "2023-05-04T13:51:54.726730Z",
     "iopub.status.busy": "2023-05-04T13:51:54.725387Z",
     "iopub.status.idle": "2023-05-04T13:51:54.732624Z",
     "shell.execute_reply": "2023-05-04T13:51:54.730934Z",
     "shell.execute_reply.started": "2023-05-04T13:51:54.726656Z"
    }
   },
   "outputs": [],
   "source": [
    "import xgboost as xgb"
   ]
  },
  {
   "cell_type": "code",
   "execution_count": null,
   "id": "1550c456",
   "metadata": {},
   "outputs": [],
   "source": [
    "auto_model = xgb.XGBClassifier(n_estimators= 295,\n",
    "                               max_leaves = 810, min_child_weight = 6.150041099125579,\n",
    "                               learning_rate = 0.06894448972317331,\n",
    "                               subsample = 0.8618758064542394,\n",
    "                               colsample_bylevel =1.0, \n",
    "                               colsample_bytree = 1.0, \n",
    "                               reg_alpha = 0.020070123048846998,  \n",
    "                               reg_lambda = 0.49934036422839806, \n",
    "                               n_jobs = 8 , verbosity = 2)\n",
    "\n",
    "\n",
    "auto_model.fit(X_train, y_train)"
   ]
  },
  {
   "cell_type": "code",
   "execution_count": 35,
   "id": "8d492372",
   "metadata": {
    "execution": {
     "iopub.execute_input": "2023-05-04T14:40:03.582334Z",
     "iopub.status.busy": "2023-05-04T14:40:03.581831Z",
     "iopub.status.idle": "2023-05-04T14:40:03.607197Z",
     "shell.execute_reply": "2023-05-04T14:40:03.605475Z",
     "shell.execute_reply.started": "2023-05-04T14:40:03.582291Z"
    }
   },
   "outputs": [],
   "source": [
    "import pickle\n",
    "\n",
    "Pkl_Filename = \"XGB_Tuned.pkl\"  \n",
    "\n",
    "with open(Pkl_Filename, 'wb') as file:  \n",
    "    pickle.dump(auto_model, file)"
   ]
  },
  {
   "cell_type": "code",
   "execution_count": 37,
   "id": "38598f96",
   "metadata": {
    "execution": {
     "iopub.execute_input": "2023-05-04T14:40:23.831712Z",
     "iopub.status.busy": "2023-05-04T14:40:23.831262Z",
     "iopub.status.idle": "2023-05-04T14:41:28.130155Z",
     "shell.execute_reply": "2023-05-04T14:41:28.128746Z",
     "shell.execute_reply.started": "2023-05-04T14:40:23.831674Z"
    }
   },
   "outputs": [],
   "source": [
    "y_pred = auto_model.predict(X_test)"
   ]
  },
  {
   "cell_type": "code",
   "execution_count": 38,
   "id": "e2e95ca9",
   "metadata": {
    "execution": {
     "iopub.execute_input": "2023-05-04T14:41:28.133044Z",
     "iopub.status.busy": "2023-05-04T14:41:28.132072Z",
     "iopub.status.idle": "2023-05-04T14:41:40.812907Z",
     "shell.execute_reply": "2023-05-04T14:41:40.811635Z",
     "shell.execute_reply.started": "2023-05-04T14:41:28.132976Z"
    }
   },
   "outputs": [
    {
     "name": "stdout",
     "output_type": "stream",
     "text": [
      "              precision    recall  f1-score   support\n",
      "\n",
      "           0       1.00      1.00      1.00   7307107\n",
      "           1       0.72      0.61      0.66      8963\n",
      "\n",
      "    accuracy                           1.00   7316070\n",
      "   macro avg       0.86      0.80      0.83   7316070\n",
      "weighted avg       1.00      1.00      1.00   7316070\n",
      "\n"
     ]
    }
   ],
   "source": [
    "print(classification_report(y_test, y_pred))"
   ]
  },
  {
   "cell_type": "markdown",
   "id": "b512578f",
   "metadata": {},
   "source": [
    "# Tuning catboost"
   ]
  },
  {
   "cell_type": "code",
   "execution_count": null,
   "id": "a4129392",
   "metadata": {},
   "outputs": [],
   "source": [
    "from flaml import AutoML\n",
    "\n",
    "automl = AutoML()\n",
    "settings = {\n",
    "    \"time_budget\": 1800, \n",
    "    \"metric\": 'macro_f1', \n",
    "    \"estimator_list\": ['catboost'],  \n",
    "    \"task\": 'classification',  \n",
    "    \"log_file_name\": 'cat.log',  \n",
    "    \"seed\": 1613,  \n",
    "}\n",
    "automl.fit(X_train=X_train, y_train=y_train, **settings, n_jobs = 8 )"
   ]
  },
  {
   "cell_type": "code",
   "execution_count": 14,
   "id": "bc0c293f",
   "metadata": {
    "execution": {
     "iopub.execute_input": "2023-05-05T09:55:47.105958Z",
     "iopub.status.busy": "2023-05-05T09:55:47.105450Z",
     "iopub.status.idle": "2023-05-05T09:55:47.113646Z",
     "shell.execute_reply": "2023-05-05T09:55:47.112209Z",
     "shell.execute_reply.started": "2023-05-05T09:55:47.105904Z"
    }
   },
   "outputs": [
    {
     "name": "stdout",
     "output_type": "stream",
     "text": [
      "Best hyperparmeter config: {'early_stopping_rounds': 10, 'learning_rate': 0.09999999999999996, 'n_estimators': 303}\n",
      "Best r2 on validation data: 0.9247\n",
      "Training duration of best run: 53.19 s\n"
     ]
    }
   ],
   "source": [
    "print('Best hyperparmeter config:', automl.best_config)\n",
    "print('Best r2 on validation data: {0:.4g}'.format(1-automl.best_loss))\n",
    "print('Training duration of best run: {0:.4g} s'.format(automl.best_config_train_time))"
   ]
  },
  {
   "cell_type": "code",
   "execution_count": 15,
   "id": "50a7b2ad",
   "metadata": {
    "execution": {
     "iopub.execute_input": "2023-05-05T09:57:45.426562Z",
     "iopub.status.busy": "2023-05-05T09:57:45.426085Z",
     "iopub.status.idle": "2023-05-05T09:57:45.432293Z",
     "shell.execute_reply": "2023-05-05T09:57:45.430761Z",
     "shell.execute_reply.started": "2023-05-05T09:57:45.426520Z"
    }
   },
   "outputs": [],
   "source": [
    "from catboost import CatBoostClassifier"
   ]
  },
  {
   "cell_type": "code",
   "execution_count": null,
   "id": "2d61a560",
   "metadata": {},
   "outputs": [],
   "source": [
    "catboost = CatBoostClassifier(early_stopping_rounds= 20, learning_rate=0.1, n_estimators=350)\n",
    "catboost.fit(X_train, y_train )"
   ]
  },
  {
   "cell_type": "code",
   "execution_count": 35,
   "id": "83b960f4",
   "metadata": {
    "execution": {
     "iopub.execute_input": "2023-05-05T10:23:47.830997Z",
     "iopub.status.busy": "2023-05-05T10:23:47.830101Z",
     "iopub.status.idle": "2023-05-05T10:23:52.056193Z",
     "shell.execute_reply": "2023-05-05T10:23:52.054981Z",
     "shell.execute_reply.started": "2023-05-05T10:23:47.830950Z"
    }
   },
   "outputs": [],
   "source": [
    "y_pred = catboost.predict(X_test)"
   ]
  },
  {
   "cell_type": "code",
   "execution_count": 36,
   "id": "5378e6e9",
   "metadata": {
    "execution": {
     "iopub.execute_input": "2023-05-05T10:23:52.058070Z",
     "iopub.status.busy": "2023-05-05T10:23:52.057706Z",
     "iopub.status.idle": "2023-05-05T10:24:04.567239Z",
     "shell.execute_reply": "2023-05-05T10:24:04.565836Z",
     "shell.execute_reply.started": "2023-05-05T10:23:52.058038Z"
    }
   },
   "outputs": [
    {
     "name": "stdout",
     "output_type": "stream",
     "text": [
      "              precision    recall  f1-score   support\n",
      "\n",
      "           0       1.00      1.00      1.00   7307107\n",
      "           1       0.73      0.53      0.61      8963\n",
      "\n",
      "    accuracy                           1.00   7316070\n",
      "   macro avg       0.86      0.77      0.81   7316070\n",
      "weighted avg       1.00      1.00      1.00   7316070\n",
      "\n"
     ]
    }
   ],
   "source": [
    "print(classification_report(y_test, y_pred))"
   ]
  },
  {
   "cell_type": "code",
   "execution_count": 38,
   "id": "d5a71d64",
   "metadata": {
    "execution": {
     "iopub.execute_input": "2023-05-05T10:25:34.233945Z",
     "iopub.status.busy": "2023-05-05T10:25:34.232130Z",
     "iopub.status.idle": "2023-05-05T10:25:34.243652Z",
     "shell.execute_reply": "2023-05-05T10:25:34.242287Z",
     "shell.execute_reply.started": "2023-05-05T10:25:34.233865Z"
    }
   },
   "outputs": [],
   "source": [
    "import pickle\n",
    "\n",
    "Pkl_Filename = \"CatBoostModelCC.pkl\"  \n",
    "\n",
    "with open(Pkl_Filename, 'wb') as file:  \n",
    "    pickle.dump(catboost, file)"
   ]
  },
  {
   "cell_type": "code",
   "execution_count": null,
   "id": "5a4ba3e7",
   "metadata": {},
   "outputs": [],
   "source": [
    "              precision    recall  f1-score   support\n",
    "\n",
    "           0       1.00      1.00      1.00   7307107\n",
    "           1       0.72      0.52      0.61      8963\n",
    "\n",
    "    accuracy                           1.00   7316070\n",
    "   macro avg       0.86      0.76      0.80   7316070\n",
    "weighted avg       1.00      1.00      1.00   7316070"
   ]
  },
  {
   "cell_type": "code",
   "execution_count": 1,
   "id": "767ef533",
   "metadata": {},
   "outputs": [],
   "source": [
    "# CatBoost is faster but with 2% less macro f1 score"
   ]
  },
  {
   "cell_type": "code",
   "execution_count": null,
   "id": "63eaa25b",
   "metadata": {},
   "outputs": [],
   "source": []
  }
 ],
 "metadata": {
  "kernelspec": {
   "display_name": "Python 3 (ipykernel)",
   "language": "python",
   "name": "python3"
  },
  "language_info": {
   "codemirror_mode": {
    "name": "ipython",
    "version": 3
   },
   "file_extension": ".py",
   "mimetype": "text/x-python",
   "name": "python",
   "nbconvert_exporter": "python",
   "pygments_lexer": "ipython3",
   "version": "3.10.9"
  },
  "papermill": {
   "default_parameters": {},
   "duration": 578.651118,
   "end_time": "2021-10-05T13:48:03.479402",
   "environment_variables": {},
   "exception": null,
   "input_path": "__notebook__.ipynb",
   "output_path": "__notebook__.ipynb",
   "parameters": {},
   "start_time": "2021-10-05T13:38:24.828284",
   "version": "2.3.3"
  }
 },
 "nbformat": 4,
 "nbformat_minor": 5
}
